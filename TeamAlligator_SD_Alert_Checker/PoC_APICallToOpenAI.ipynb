{
 "cells": [
  {
   "cell_type": "code",
   "execution_count": null,
   "metadata": {},
   "outputs": [],
   "source": [
    "# Using API Request from request lib instead of usage of the openai lib PT1\n",
    "%pip install requests\n",
    "%pip install pandas\n",
    "import requests\n",
    "import json\n",
    "import pandas as pd"
   ]
  },
  {
   "cell_type": "code",
   "execution_count": 10,
   "metadata": {},
   "outputs": [
    {
     "name": "stdout",
     "output_type": "stream",
     "text": [
      "{'error': {'message': 'Incorrect API key provided: $APIKEY. You can find your API key at https://platform.openai.com/account/api-keys.', 'type': 'invalid_request_error', 'param': None, 'code': 'invalid_api_key'}}\n"
     ]
    }
   ],
   "source": [
    "# build request for API Call\n",
    "import requests\n",
    "import json\n",
    "import pandas as pd\n",
    "\n",
    "url = \"https://api.openai.com/v1/chat/completions\"\n",
    "headers = {\"Content-Type\": \"application/json\", \"Authorization\": \"Bearer $APIKEY\"}\n",
    "data = {\n",
    "    \"model\": \"gpt-4\",\n",
    "    \"messages\": [\n",
    "        {\"role\": \"system\", \"content\": \"You are a helpful assistant.\"},\n",
    "        {\n",
    "            \"role\": \"user\",\n",
    "            \"content\": \"You are a helper for an SAP Consultant and need to categorize incoming Emails to a service Desk Outlook Mailbox. You need to distinguish the emails due to the following aspects: urgency, importance of the mail, priority, productive system or test system. According to this aspects you have to decide whether the mail should be forwarded to the service desk consultant. Return a JSON as response including the value for 'forward to service desk' with either the value 'true' or 'false' and include the reason in the response. This is the mail body:Name der Stoerungsmeldung: SM_WERK_VO_14.01.2025_01 Status der Stoerung: 15 Kurzbeschreibung: PLT-SYSTEM: LE 6574 ins Lager schicken und ASA aendern Kommentar zur Stoerung: Ticket kann geschlossen werden. Der Auftrag wurde neu zugeteilt und wird aktuell bearbeitet. Vielen Dank fuer Ihre Hilfe! Markus Fischer. Subject is Neuer Kommentar zu SM_WERK_VO_14.01.2025_01 \",\n",
    "        },\n",
    "    ],\n",
    "}\n",
    "\n",
    "response = requests.post(url, headers=headers, data=json.dumps(data))\n",
    "json_response = response.json()\n",
    "\n",
    "# Assuming the response contains a list of choices with messages\n",
    "choices = json_response.get(\"choices\", [])\n",
    "messages = [choice[\"message\"] for choice in choices]\n",
    "\n",
    "print(json_response)"
   ]
  },
  {
   "cell_type": "code",
   "execution_count": null,
   "metadata": {},
   "outputs": [
    {
     "name": "stdout",
     "output_type": "stream",
     "text": [
      "Collecting black\n",
      "  Downloading black-24.10.0-cp311-cp311-win_amd64.whl.metadata (79 kB)\n",
      "Collecting click>=8.0.0 (from black)\n",
      "  Downloading click-8.1.8-py3-none-any.whl.metadata (2.3 kB)\n",
      "Collecting mypy-extensions>=0.4.3 (from black)\n",
      "  Downloading mypy_extensions-1.0.0-py3-none-any.whl.metadata (1.1 kB)\n",
      "Requirement already satisfied: packaging>=22.0 in c:\\users\\cindy.hoang\\appdata\\local\\packages\\pythonsoftwarefoundation.python.3.11_qbz5n2kfra8p0\\localcache\\local-packages\\python311\\site-packages (from black) (24.2)\n",
      "Collecting pathspec>=0.9.0 (from black)\n",
      "  Downloading pathspec-0.12.1-py3-none-any.whl.metadata (21 kB)\n",
      "Requirement already satisfied: platformdirs>=2 in c:\\users\\cindy.hoang\\appdata\\local\\packages\\pythonsoftwarefoundation.python.3.11_qbz5n2kfra8p0\\localcache\\local-packages\\python311\\site-packages (from black) (4.3.6)\n",
      "Requirement already satisfied: colorama in c:\\users\\cindy.hoang\\appdata\\local\\packages\\pythonsoftwarefoundation.python.3.11_qbz5n2kfra8p0\\localcache\\local-packages\\python311\\site-packages (from click>=8.0.0->black) (0.4.6)\n",
      "Downloading black-24.10.0-cp311-cp311-win_amd64.whl (1.4 MB)\n",
      "   ---------------------------------------- 0.0/1.4 MB ? eta -:--:--\n",
      "   ---------------------------------------- 1.4/1.4 MB 14.9 MB/s eta 0:00:00\n",
      "Downloading click-8.1.8-py3-none-any.whl (98 kB)\n",
      "Downloading mypy_extensions-1.0.0-py3-none-any.whl (4.7 kB)\n",
      "Downloading pathspec-0.12.1-py3-none-any.whl (31 kB)\n",
      "Installing collected packages: pathspec, mypy-extensions, click, black\n",
      "Successfully installed black-24.10.0 click-8.1.8 mypy-extensions-1.0.0 pathspec-0.12.1\n",
      "Note: you may need to restart the kernel to use updated packages.\n"
     ]
    }
   ],
   "source": []
  },
  {
   "cell_type": "code",
   "execution_count": null,
   "metadata": {},
   "outputs": [],
   "source": []
  }
 ],
 "metadata": {
  "kernelspec": {
   "display_name": "Python 3",
   "language": "python",
   "name": "python3"
  },
  "language_info": {
   "codemirror_mode": {
    "name": "ipython",
    "version": 3
   },
   "file_extension": ".py",
   "mimetype": "text/x-python",
   "name": "python",
   "nbconvert_exporter": "python",
   "pygments_lexer": "ipython3",
   "version": "3.11.9"
  }
 },
 "nbformat": 4,
 "nbformat_minor": 2
}
